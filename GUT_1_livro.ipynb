{
  "nbformat": 4,
  "nbformat_minor": 0,
  "metadata": {
    "colab": {
      "provenance": []
    },
    "kernelspec": {
      "name": "python3",
      "display_name": "Python 3"
    },
    "language_info": {
      "name": "python"
    }
  },
  "cells": [
    {
      "cell_type": "code",
      "execution_count": null,
      "metadata": {
        "colab": {
          "base_uri": "https://localhost:8080/"
        },
        "id": "COFmxWwfnR1_",
        "outputId": "5b2a3606-1d25-4f30-b79d-fe0bb7a78e75"
      },
      "outputs": [
        {
          "output_type": "stream",
          "name": "stdout",
          "text": [
            "Problema\tGravidade\tUrgência\tTendência\tPontuação GUT\n",
            "Problema 1\t\t4\t\t5\t\t3\t\t60\n",
            "Problema 2\t\t3\t\t4\t\t2\t\t24\n",
            "Problema 3\t\t5\t\t3\t\t4\t\t60\n",
            "Problema 4\t\t2\t\t2\t\t5\t\t20\n"
          ]
        }
      ],
      "source": [
        "# Função para calcular a pontuação GUT\n",
        "def calcular_pontuacao_GUT(gravidade, urgencia, tendencia):\n",
        "    return gravidade * urgencia * tendencia\n",
        "\n",
        "# Dados de exemplo para os problemas\n",
        "problemas = ['Problema 1', 'Problema 2', 'Problema 3', 'Problema 4']\n",
        "gravidades = [4, 3, 5, 2]   # Escala de 1 a 5, sendo 5 o mais grave\n",
        "urgencias = [5, 4, 3, 2]    # Escala de 1 a 5, sendo 5 o mais urgente\n",
        "tendencias = [3, 2, 4, 5]   # Escala de 1 a 5, indicando a tendência de piora do problema\n",
        "\n",
        "# Calcular pontuações GUT para cada problema\n",
        "pontuacoes_GUT = []\n",
        "for i in range(len(problemas)):\n",
        "    pontuacao = calcular_pontuacao_GUT(gravidades[i], urgencias[i], tendencias[i])\n",
        "    pontuacoes_GUT.append(pontuacao)\n",
        "\n",
        "# Imprimir tabela\n",
        "print(\"Problema\\tGravidade\\tUrgência\\tTendência\\tPontuação GUT\")\n",
        "for i in range(len(problemas)):\n",
        "    print(f\"{problemas[i]}\\t\\t{gravidades[i]}\\t\\t{urgencias[i]}\\t\\t{tendencias[i]}\\t\\t{pontuacoes_GUT[i]}\")\n"
      ]
    }
  ]
}